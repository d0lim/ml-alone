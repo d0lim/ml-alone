{
 "cells": [
  {
   "cell_type": "markdown",
   "metadata": {},
   "source": [
    "# 순차 데이터으로 IMDB 리뷰 분류하기"
   ]
  },
  {
   "cell_type": "code",
   "execution_count": 1,
   "metadata": {},
   "outputs": [],
   "source": [
    "from tensorflow.keras.datasets import imdb\n",
    "(train_input, train_target), (test_input, test_target) = imdb.load_data(num_words=500)"
   ]
  },
  {
   "cell_type": "code",
   "execution_count": 2,
   "metadata": {},
   "outputs": [
    {
     "name": "stdout",
     "output_type": "stream",
     "text": [
      "(25000,) (25000,)\n"
     ]
    }
   ],
   "source": [
    "print(train_input.shape, test_input.shape)"
   ]
  },
  {
   "cell_type": "code",
   "execution_count": 3,
   "metadata": {},
   "outputs": [
    {
     "name": "stdout",
     "output_type": "stream",
     "text": [
      "218\n"
     ]
    }
   ],
   "source": [
    "print(len(train_input[0]))"
   ]
  },
  {
   "cell_type": "code",
   "execution_count": 4,
   "metadata": {},
   "outputs": [
    {
     "name": "stdout",
     "output_type": "stream",
     "text": [
      "189\n"
     ]
    }
   ],
   "source": [
    "print(len(train_input[1]))"
   ]
  },
  {
   "cell_type": "code",
   "execution_count": 5,
   "metadata": {},
   "outputs": [
    {
     "name": "stdout",
     "output_type": "stream",
     "text": [
      "[1, 14, 22, 16, 43, 2, 2, 2, 2, 65, 458, 2, 66, 2, 4, 173, 36, 256, 5, 25, 100, 43, 2, 112, 50, 2, 2, 9, 35, 480, 284, 5, 150, 4, 172, 112, 167, 2, 336, 385, 39, 4, 172, 2, 2, 17, 2, 38, 13, 447, 4, 192, 50, 16, 6, 147, 2, 19, 14, 22, 4, 2, 2, 469, 4, 22, 71, 87, 12, 16, 43, 2, 38, 76, 15, 13, 2, 4, 22, 17, 2, 17, 12, 16, 2, 18, 2, 5, 62, 386, 12, 8, 316, 8, 106, 5, 4, 2, 2, 16, 480, 66, 2, 33, 4, 130, 12, 16, 38, 2, 5, 25, 124, 51, 36, 135, 48, 25, 2, 33, 6, 22, 12, 215, 28, 77, 52, 5, 14, 407, 16, 82, 2, 8, 4, 107, 117, 2, 15, 256, 4, 2, 7, 2, 5, 2, 36, 71, 43, 2, 476, 26, 400, 317, 46, 7, 4, 2, 2, 13, 104, 88, 4, 381, 15, 297, 98, 32, 2, 56, 26, 141, 6, 194, 2, 18, 4, 226, 22, 21, 134, 476, 26, 480, 5, 144, 30, 2, 18, 51, 36, 28, 224, 92, 25, 104, 4, 226, 65, 16, 38, 2, 88, 12, 16, 283, 5, 16, 2, 113, 103, 32, 15, 16, 2, 19, 178, 32]\n"
     ]
    }
   ],
   "source": [
    "print(train_input[0])"
   ]
  },
  {
   "cell_type": "code",
   "execution_count": 6,
   "metadata": {},
   "outputs": [
    {
     "name": "stdout",
     "output_type": "stream",
     "text": [
      "[1 0 0 1 0 0 1 0 1 0 1 0 0 0 0 0 1 1 0 1]\n"
     ]
    }
   ],
   "source": [
    "print(train_target[:20])"
   ]
  },
  {
   "cell_type": "code",
   "execution_count": 7,
   "metadata": {},
   "outputs": [],
   "source": [
    "from sklearn.model_selection import train_test_split\n",
    "train_input, val_input, train_target, val_target = train_test_split(train_input, train_target, test_size=0.2, random_state=42)"
   ]
  },
  {
   "cell_type": "code",
   "execution_count": 8,
   "metadata": {},
   "outputs": [],
   "source": [
    "import numpy as np\n",
    "lengths = np.array([len(x) for x in train_input])"
   ]
  },
  {
   "cell_type": "code",
   "execution_count": 9,
   "metadata": {},
   "outputs": [
    {
     "name": "stdout",
     "output_type": "stream",
     "text": [
      "239.00925 178.0\n"
     ]
    }
   ],
   "source": [
    "print(np.mean(lengths), np.median(lengths))"
   ]
  },
  {
   "cell_type": "code",
   "execution_count": 10,
   "metadata": {},
   "outputs": [
    {
     "data": {
      "image/png": "[encoded data removed]",
      "text/plain": [
       "<Figure size 432x288 with 1 Axes>"
      ]
     },
     "metadata": {
      "needs_background": "light"
     },
     "output_type": "display_data"
    }
   ],
   "source": [
    "import matplotlib.pyplot as plt\n",
    "plt.hist(lengths)\n",
    "plt.xlabel('length')\n",
    "plt.ylabel('frequency')\n",
    "plt.show()"
   ]
  },
  {
   "cell_type": "code",
   "execution_count": 11,
   "metadata": {},
   "outputs": [],
   "source": [
    "from tensorflow.keras.preprocessing.sequence import pad_sequences\n",
    "train_seq = pad_sequences(train_input, maxlen=100)"
   ]
  },
  {
   "cell_type": "code",
   "execution_count": 12,
   "metadata": {},
   "outputs": [
    {
     "name": "stdout",
     "output_type": "stream",
     "text": [
      "(20000, 100)\n"
     ]
    }
   ],
   "source": [
    "print(train_seq.shape)"
   ]
  },
  {
   "cell_type": "code",
   "execution_count": 13,
   "metadata": {},
   "outputs": [
    {
     "name": "stdout",
     "output_type": "stream",
     "text": [
      "[ 10   4  20   9   2 364 352   5  45   6   2   2  33 269   8   2 142   2\n",
      "   5   2  17  73  17 204   5   2  19  55   2   2  92  66 104  14  20  93\n",
      "  76   2 151  33   4  58  12 188   2 151  12 215  69 224 142  73 237   6\n",
      "   2   7   2   2 188   2 103  14  31  10  10 451   7   2   5   2  80  91\n",
      "   2  30   2  34  14  20 151  50  26 131  49   2  84  46  50  37  80  79\n",
      "   6   2  46   7  14  20  10  10 470 158]\n"
     ]
    }
   ],
   "source": [
    "print(train_seq[0])"
   ]
  },
  {
   "cell_type": "code",
   "execution_count": 14,
   "metadata": {},
   "outputs": [
    {
     "name": "stdout",
     "output_type": "stream",
     "text": [
      "[6, 2, 46, 7, 14, 20, 10, 10, 470, 158]\n"
     ]
    }
   ],
   "source": [
    "print(train_input[0][-10:])"
   ]
  },
  {
   "cell_type": "code",
   "execution_count": 15,
   "metadata": {},
   "outputs": [
    {
     "name": "stdout",
     "output_type": "stream",
     "text": [
      "[  0   0   0   0   1   2 195  19  49   2   2 190   4   2 352   2 183  10\n",
      "  10  13  82  79   4   2  36  71 269   8   2  25  19  49   7   4   2   2\n",
      "   2   2   2  10  10  48  25  40   2  11   2   2  40   2   2   5   4   2\n",
      "   2  95  14 238  56 129   2  10  10  21   2  94 364 352   2   2  11 190\n",
      "  24 484   2   7  94 205 405  10  10  87   2  34  49   2   7   2   2   2\n",
      "   2   2 290   2  46  48  64  18   4   2]\n"
     ]
    }
   ],
   "source": [
    "print(train_seq[5])"
   ]
  },
  {
   "cell_type": "code",
   "execution_count": 16,
   "metadata": {},
   "outputs": [],
   "source": [
    "val_seq = pad_sequences(val_input, maxlen=100)"
   ]
  },
  {
   "cell_type": "markdown",
   "metadata": {},
   "source": [
    "## 순환 신경망 만들기"
   ]
  },
  {
   "cell_type": "code",
   "execution_count": 17,
   "metadata": {},
   "outputs": [
    {
     "name": "stderr",
     "output_type": "stream",
     "text": [
      "2021-10-29 15:04:07.462308: I tensorflow/stream_executor/cuda/cuda_gpu_executor.cc:923] could not open file to read NUMA node: /sys/bus/pci/devices/0000:2b:00.0/numa_node\n",
      "Your kernel may have been built without NUMA support.\n",
      "2021-10-29 15:04:07.492109: I tensorflow/stream_executor/cuda/cuda_gpu_executor.cc:923] could not open file to read NUMA node: /sys/bus/pci/devices/0000:2b:00.0/numa_node\n",
      "Your kernel may have been built without NUMA support.\n",
      "2021-10-29 15:04:07.493186: I tensorflow/stream_executor/cuda/cuda_gpu_executor.cc:923] could not open file to read NUMA node: /sys/bus/pci/devices/0000:2b:00.0/numa_node\n",
      "Your kernel may have been built without NUMA support.\n",
      "2021-10-29 15:04:07.493835: I tensorflow/core/platform/cpu_feature_guard.cc:142] This TensorFlow binary is optimized with oneAPI Deep Neural Network Library (oneDNN) to use the following CPU instructions in performance-critical operations:  AVX2 FMA\n",
      "To enable them in other operations, rebuild TensorFlow with the appropriate compiler flags.\n",
      "2021-10-29 15:04:07.496263: I tensorflow/stream_executor/cuda/cuda_gpu_executor.cc:923] could not open file to read NUMA node: /sys/bus/pci/devices/0000:2b:00.0/numa_node\n",
      "Your kernel may have been built without NUMA support.\n",
      "2021-10-29 15:04:07.497306: I tensorflow/stream_executor/cuda/cuda_gpu_executor.cc:923] could not open file to read NUMA node: /sys/bus/pci/devices/0000:2b:00.0/numa_node\n",
      "Your kernel may have been built without NUMA support.\n",
      "2021-10-29 15:04:07.498327: I tensorflow/stream_executor/cuda/cuda_gpu_executor.cc:923] could not open file to read NUMA node: /sys/bus/pci/devices/0000:2b:00.0/numa_node\n",
      "Your kernel may have been built without NUMA support.\n",
      "2021-10-29 15:04:08.195062: I tensorflow/stream_executor/cuda/cuda_gpu_executor.cc:923] could not open file to read NUMA node: /sys/bus/pci/devices/0000:2b:00.0/numa_node\n",
      "Your kernel may have been built without NUMA support.\n",
      "2021-10-29 15:04:08.196165: I tensorflow/stream_executor/cuda/cuda_gpu_executor.cc:923] could not open file to read NUMA node: /sys/bus/pci/devices/0000:2b:00.0/numa_node\n",
      "Your kernel may have been built without NUMA support.\n",
      "2021-10-29 15:04:08.196176: I tensorflow/core/common_runtime/gpu/gpu_device.cc:1594] Could not identify NUMA node of platform GPU id 0, defaulting to 0.  Your kernel may not have been built with NUMA support.\n",
      "2021-10-29 15:04:08.197242: I tensorflow/stream_executor/cuda/cuda_gpu_executor.cc:923] could not open file to read NUMA node: /sys/bus/pci/devices/0000:2b:00.0/numa_node\n",
      "Your kernel may have been built without NUMA support.\n",
      "2021-10-29 15:04:08.197463: I tensorflow/core/common_runtime/gpu/gpu_device.cc:1510] Created device /job:localhost/replica:0/task:0/device:GPU:0 with 21642 MB memory:  -> device: 0, name: NVIDIA GeForce RTX 3090, pci bus id: 0000:2b:00.0, compute capability: 8.6\n"
     ]
    }
   ],
   "source": [
    "from tensorflow import keras\n",
    "model = keras.Sequential()\n",
    "model.add(keras.layers.SimpleRNN(8, input_shape=(100, 500)))\n",
    "model.add(keras.layers.Dense(1, activation='sigmoid'))"
   ]
  },
  {
   "cell_type": "code",
   "execution_count": 18,
   "metadata": {},
   "outputs": [],
   "source": [
    "train_oh = keras.utils.to_categorical(train_seq)"
   ]
  },
  {
   "cell_type": "code",
   "execution_count": 19,
   "metadata": {},
   "outputs": [
    {
     "name": "stdout",
     "output_type": "stream",
     "text": [
      "(20000, 100, 500)\n"
     ]
    }
   ],
   "source": [
    "print(train_oh.shape)"
   ]
  },
  {
   "cell_type": "code",
   "execution_count": 20,
   "metadata": {},
   "outputs": [
    {
     "name": "stdout",
     "output_type": "stream",
     "text": [
      "[0. 0. 0. 0. 0. 0. 0. 0. 0. 0. 1. 0.]\n"
     ]
    }
   ],
   "source": [
    "print(train_oh[0][0][:12])"
   ]
  },
  {
   "cell_type": "code",
   "execution_count": 21,
   "metadata": {},
   "outputs": [
    {
     "name": "stdout",
     "output_type": "stream",
     "text": [
      "1.0\n"
     ]
    }
   ],
   "source": [
    "print(np.sum(train_oh[0][0]))"
   ]
  },
  {
   "cell_type": "code",
   "execution_count": 22,
   "metadata": {},
   "outputs": [],
   "source": [
    "val_oh = keras.utils.to_categorical(val_seq)"
   ]
  },
  {
   "cell_type": "code",
   "execution_count": 23,
   "metadata": {},
   "outputs": [
    {
     "name": "stdout",
     "output_type": "stream",
     "text": [
      "Model: \"sequential\"\n",
      "_________________________________________________________________\n",
      "Layer (type)                 Output Shape              Param #   \n",
      "=================================================================\n",
      "simple_rnn (SimpleRNN)       (None, 8)                 4072      \n",
      "_________________________________________________________________\n",
      "dense (Dense)                (None, 1)                 9         \n",
      "=================================================================\n",
      "Total params: 4,081\n",
      "Trainable params: 4,081\n",
      "Non-trainable params: 0\n",
      "_________________________________________________________________\n"
     ]
    }
   ],
   "source": [
    "model.summary()"
   ]
  },
  {
   "cell_type": "markdown",
   "metadata": {},
   "source": [
    "## 순환 신경망 훈련하기"
   ]
  },
  {
   "cell_type": "code",
   "execution_count": 24,
   "metadata": {},
   "outputs": [
    {
     "name": "stderr",
     "output_type": "stream",
     "text": [
      "2021-10-29 15:04:10.322148: W tensorflow/core/framework/cpu_allocator_impl.cc:80] Allocation of 4000000000 exceeds 10% of free system memory.\n",
      "2021-10-29 15:04:11.575917: W tensorflow/core/framework/cpu_allocator_impl.cc:80] Allocation of 4000000000 exceeds 10% of free system memory.\n",
      "2021-10-29 15:04:12.076522: I tensorflow/compiler/mlir/mlir_graph_optimization_pass.cc:185] None of the MLIR Optimization Passes are enabled (registered 2)\n"
     ]
    },
    {
     "name": "stdout",
     "output_type": "stream",
     "text": [
      "Epoch 1/100\n",
      "  2/313 [..............................] - ETA: 27s - loss: 0.7007 - accuracy: 0.4922 "
     ]
    },
    {
     "name": "stderr",
     "output_type": "stream",
     "text": [
      "2021-10-29 15:04:13.396006: I tensorflow/stream_executor/cuda/cuda_blas.cc:1760] TensorFloat-32 will be used for the matrix multiplication. This will only be logged once.\n"
     ]
    },
    {
     "name": "stdout",
     "output_type": "stream",
     "text": [
      "313/313 [==============================] - 28s 86ms/step - loss: 0.7034 - accuracy: 0.5035 - val_loss: 0.6963 - val_accuracy: 0.5168\n",
      "Epoch 2/100\n",
      "313/313 [==============================] - 27s 85ms/step - loss: 0.6966 - accuracy: 0.5110 - val_loss: 0.6923 - val_accuracy: 0.5246\n",
      "Epoch 3/100\n",
      "313/313 [==============================] - 27s 85ms/step - loss: 0.6924 - accuracy: 0.5204 - val_loss: 0.6898 - val_accuracy: 0.5322\n",
      "Epoch 4/100\n",
      "313/313 [==============================] - 27s 85ms/step - loss: 0.6895 - accuracy: 0.5312 - val_loss: 0.6881 - val_accuracy: 0.5408\n",
      "Epoch 5/100\n",
      "313/313 [==============================] - 27s 85ms/step - loss: 0.6872 - accuracy: 0.5390 - val_loss: 0.6867 - val_accuracy: 0.5482\n",
      "Epoch 6/100\n",
      "313/313 [==============================] - 26s 84ms/step - loss: 0.6851 - accuracy: 0.5482 - val_loss: 0.6854 - val_accuracy: 0.5524\n",
      "Epoch 7/100\n",
      "313/313 [==============================] - 26s 83ms/step - loss: 0.6830 - accuracy: 0.5569 - val_loss: 0.6842 - val_accuracy: 0.5532\n",
      "Epoch 8/100\n",
      "313/313 [==============================] - 26s 82ms/step - loss: 0.6810 - accuracy: 0.5634 - val_loss: 0.6830 - val_accuracy: 0.5530\n",
      "Epoch 9/100\n",
      "313/313 [==============================] - 27s 87ms/step - loss: 0.6789 - accuracy: 0.5703 - val_loss: 0.6819 - val_accuracy: 0.5550\n",
      "Epoch 10/100\n",
      "313/313 [==============================] - 27s 86ms/step - loss: 0.6769 - accuracy: 0.5755 - val_loss: 0.6809 - val_accuracy: 0.5572\n",
      "Epoch 11/100\n",
      "313/313 [==============================] - 26s 83ms/step - loss: 0.6748 - accuracy: 0.5818 - val_loss: 0.6799 - val_accuracy: 0.5608\n",
      "Epoch 12/100\n",
      "313/313 [==============================] - 26s 84ms/step - loss: 0.6728 - accuracy: 0.5864 - val_loss: 0.6789 - val_accuracy: 0.5626\n",
      "Epoch 13/100\n",
      "313/313 [==============================] - 26s 84ms/step - loss: 0.6707 - accuracy: 0.5899 - val_loss: 0.6778 - val_accuracy: 0.5662\n",
      "Epoch 14/100\n",
      "313/313 [==============================] - 27s 86ms/step - loss: 0.6686 - accuracy: 0.5950 - val_loss: 0.6769 - val_accuracy: 0.5690\n",
      "Epoch 15/100\n",
      "313/313 [==============================] - 27s 85ms/step - loss: 0.6665 - accuracy: 0.5976 - val_loss: 0.6760 - val_accuracy: 0.5708\n",
      "Epoch 16/100\n",
      "313/313 [==============================] - 26s 84ms/step - loss: 0.6644 - accuracy: 0.6008 - val_loss: 0.6754 - val_accuracy: 0.5710\n",
      "Epoch 17/100\n",
      "313/313 [==============================] - 26s 84ms/step - loss: 0.6623 - accuracy: 0.6056 - val_loss: 0.6746 - val_accuracy: 0.5712\n",
      "Epoch 18/100\n",
      "313/313 [==============================] - 25s 81ms/step - loss: 0.6602 - accuracy: 0.6075 - val_loss: 0.6737 - val_accuracy: 0.5722\n",
      "Epoch 19/100\n",
      "313/313 [==============================] - 26s 82ms/step - loss: 0.6581 - accuracy: 0.6104 - val_loss: 0.6731 - val_accuracy: 0.5730\n",
      "Epoch 20/100\n",
      "313/313 [==============================] - 25s 81ms/step - loss: 0.6560 - accuracy: 0.6126 - val_loss: 0.6719 - val_accuracy: 0.5784\n",
      "Epoch 21/100\n",
      "313/313 [==============================] - 26s 83ms/step - loss: 0.6538 - accuracy: 0.6148 - val_loss: 0.6713 - val_accuracy: 0.5788\n",
      "Epoch 22/100\n",
      "313/313 [==============================] - 26s 82ms/step - loss: 0.6516 - accuracy: 0.6198 - val_loss: 0.6704 - val_accuracy: 0.5794\n",
      "Epoch 23/100\n",
      "313/313 [==============================] - 26s 83ms/step - loss: 0.6495 - accuracy: 0.6217 - val_loss: 0.6698 - val_accuracy: 0.5806\n",
      "Epoch 24/100\n",
      "313/313 [==============================] - 26s 83ms/step - loss: 0.6472 - accuracy: 0.6241 - val_loss: 0.6688 - val_accuracy: 0.5826\n",
      "Epoch 25/100\n",
      "313/313 [==============================] - 26s 83ms/step - loss: 0.6451 - accuracy: 0.6258 - val_loss: 0.6682 - val_accuracy: 0.5872\n",
      "Epoch 26/100\n",
      "313/313 [==============================] - 26s 82ms/step - loss: 0.6428 - accuracy: 0.6282 - val_loss: 0.6672 - val_accuracy: 0.5866\n",
      "Epoch 27/100\n",
      "313/313 [==============================] - 26s 82ms/step - loss: 0.6404 - accuracy: 0.6323 - val_loss: 0.6660 - val_accuracy: 0.5888\n",
      "Epoch 28/100\n",
      "313/313 [==============================] - 26s 83ms/step - loss: 0.6381 - accuracy: 0.6352 - val_loss: 0.6655 - val_accuracy: 0.5928\n",
      "Epoch 29/100\n",
      "313/313 [==============================] - 26s 82ms/step - loss: 0.6358 - accuracy: 0.6370 - val_loss: 0.6643 - val_accuracy: 0.5890\n",
      "Epoch 30/100\n",
      "313/313 [==============================] - 26s 85ms/step - loss: 0.6333 - accuracy: 0.6403 - val_loss: 0.6634 - val_accuracy: 0.5920\n",
      "Epoch 31/100\n",
      "313/313 [==============================] - 26s 83ms/step - loss: 0.6308 - accuracy: 0.6413 - val_loss: 0.6620 - val_accuracy: 0.5960\n",
      "Epoch 32/100\n",
      "313/313 [==============================] - 26s 82ms/step - loss: 0.6282 - accuracy: 0.6452 - val_loss: 0.6606 - val_accuracy: 0.5944\n",
      "Epoch 33/100\n",
      "313/313 [==============================] - 26s 83ms/step - loss: 0.6256 - accuracy: 0.6486 - val_loss: 0.6606 - val_accuracy: 0.5946\n",
      "Epoch 34/100\n",
      "313/313 [==============================] - 26s 84ms/step - loss: 0.6229 - accuracy: 0.6525 - val_loss: 0.6606 - val_accuracy: 0.5950\n",
      "Epoch 35/100\n",
      "313/313 [==============================] - 26s 83ms/step - loss: 0.6203 - accuracy: 0.6546 - val_loss: 0.6576 - val_accuracy: 0.5978\n",
      "Epoch 36/100\n",
      "313/313 [==============================] - 26s 84ms/step - loss: 0.6174 - accuracy: 0.6576 - val_loss: 0.6561 - val_accuracy: 0.6006\n",
      "Epoch 37/100\n",
      "313/313 [==============================] - 26s 82ms/step - loss: 0.6147 - accuracy: 0.6597 - val_loss: 0.6555 - val_accuracy: 0.5980\n",
      "Epoch 38/100\n",
      "313/313 [==============================] - 25s 81ms/step - loss: 0.6117 - accuracy: 0.6635 - val_loss: 0.6549 - val_accuracy: 0.5976\n",
      "Epoch 39/100\n",
      "313/313 [==============================] - 26s 82ms/step - loss: 0.6087 - accuracy: 0.6658 - val_loss: 0.6515 - val_accuracy: 0.6006\n",
      "Epoch 40/100\n",
      "313/313 [==============================] - 26s 82ms/step - loss: 0.6055 - accuracy: 0.6684 - val_loss: 0.6507 - val_accuracy: 0.6018\n",
      "Epoch 41/100\n",
      "313/313 [==============================] - 26s 82ms/step - loss: 0.6021 - accuracy: 0.6726 - val_loss: 0.6467 - val_accuracy: 0.6114\n",
      "Epoch 42/100\n",
      "313/313 [==============================] - 25s 81ms/step - loss: 0.5983 - accuracy: 0.6758 - val_loss: 0.6440 - val_accuracy: 0.6168\n",
      "Epoch 43/100\n",
      "313/313 [==============================] - 25s 81ms/step - loss: 0.5940 - accuracy: 0.6795 - val_loss: 0.6406 - val_accuracy: 0.6212\n",
      "Epoch 44/100\n",
      "313/313 [==============================] - 25s 81ms/step - loss: 0.5889 - accuracy: 0.6834 - val_loss: 0.6334 - val_accuracy: 0.6300\n",
      "Epoch 45/100\n",
      "313/313 [==============================] - 25s 81ms/step - loss: 0.5820 - accuracy: 0.6902 - val_loss: 0.6268 - val_accuracy: 0.6384\n",
      "Epoch 46/100\n",
      "313/313 [==============================] - 26s 82ms/step - loss: 0.5717 - accuracy: 0.7003 - val_loss: 0.6109 - val_accuracy: 0.6554\n",
      "Epoch 47/100\n",
      "313/313 [==============================] - 26s 84ms/step - loss: 0.5520 - accuracy: 0.7161 - val_loss: 0.5763 - val_accuracy: 0.6954\n",
      "Epoch 48/100\n",
      "313/313 [==============================] - 26s 82ms/step - loss: 0.5198 - accuracy: 0.7402 - val_loss: 0.5486 - val_accuracy: 0.7232\n",
      "Epoch 49/100\n",
      "313/313 [==============================] - 26s 83ms/step - loss: 0.5015 - accuracy: 0.7542 - val_loss: 0.5346 - val_accuracy: 0.7340\n",
      "Epoch 50/100\n",
      "313/313 [==============================] - 26s 83ms/step - loss: 0.4902 - accuracy: 0.7669 - val_loss: 0.5271 - val_accuracy: 0.7380\n",
      "Epoch 51/100\n",
      "313/313 [==============================] - 27s 85ms/step - loss: 0.4811 - accuracy: 0.7733 - val_loss: 0.5217 - val_accuracy: 0.7440\n",
      "Epoch 52/100\n",
      "313/313 [==============================] - 26s 83ms/step - loss: 0.4726 - accuracy: 0.7789 - val_loss: 0.5156 - val_accuracy: 0.7486\n",
      "Epoch 53/100\n",
      "313/313 [==============================] - 26s 83ms/step - loss: 0.4659 - accuracy: 0.7845 - val_loss: 0.5090 - val_accuracy: 0.7542\n",
      "Epoch 54/100\n",
      "313/313 [==============================] - 26s 83ms/step - loss: 0.4595 - accuracy: 0.7882 - val_loss: 0.5082 - val_accuracy: 0.7564\n",
      "Epoch 55/100\n",
      "313/313 [==============================] - 26s 83ms/step - loss: 0.4532 - accuracy: 0.7939 - val_loss: 0.5089 - val_accuracy: 0.7540\n",
      "Epoch 56/100\n",
      "313/313 [==============================] - 26s 82ms/step - loss: 0.4486 - accuracy: 0.7958 - val_loss: 0.5015 - val_accuracy: 0.7574\n",
      "Epoch 57/100\n",
      "313/313 [==============================] - 26s 82ms/step - loss: 0.4436 - accuracy: 0.8000 - val_loss: 0.4985 - val_accuracy: 0.7588\n",
      "Epoch 58/100\n",
      "313/313 [==============================] - 26s 82ms/step - loss: 0.4393 - accuracy: 0.8008 - val_loss: 0.5010 - val_accuracy: 0.7598\n",
      "Epoch 59/100\n",
      "313/313 [==============================] - 26s 82ms/step - loss: 0.4353 - accuracy: 0.8047 - val_loss: 0.4926 - val_accuracy: 0.7648\n",
      "Epoch 60/100\n",
      "313/313 [==============================] - 26s 82ms/step - loss: 0.4322 - accuracy: 0.8073 - val_loss: 0.4933 - val_accuracy: 0.7628\n",
      "Epoch 61/100\n",
      "313/313 [==============================] - 26s 82ms/step - loss: 0.4280 - accuracy: 0.8092 - val_loss: 0.4888 - val_accuracy: 0.7656\n",
      "Epoch 62/100\n",
      "313/313 [==============================] - 26s 83ms/step - loss: 0.4251 - accuracy: 0.8109 - val_loss: 0.4891 - val_accuracy: 0.7652\n",
      "Epoch 63/100\n",
      "313/313 [==============================] - 26s 84ms/step - loss: 0.4223 - accuracy: 0.8142 - val_loss: 0.4951 - val_accuracy: 0.7622\n",
      "Epoch 64/100\n",
      "313/313 [==============================] - 26s 82ms/step - loss: 0.4195 - accuracy: 0.8143 - val_loss: 0.4848 - val_accuracy: 0.7692\n",
      "Epoch 65/100\n",
      "313/313 [==============================] - 26s 82ms/step - loss: 0.4170 - accuracy: 0.8172 - val_loss: 0.4843 - val_accuracy: 0.7688\n",
      "Epoch 66/100\n",
      "313/313 [==============================] - 26s 82ms/step - loss: 0.4147 - accuracy: 0.8169 - val_loss: 0.4846 - val_accuracy: 0.7726\n",
      "Epoch 67/100\n",
      "313/313 [==============================] - 26s 82ms/step - loss: 0.4131 - accuracy: 0.8185 - val_loss: 0.4846 - val_accuracy: 0.7682\n",
      "Epoch 68/100\n",
      "313/313 [==============================] - 26s 82ms/step - loss: 0.4103 - accuracy: 0.8207 - val_loss: 0.4818 - val_accuracy: 0.7720\n",
      "Epoch 69/100\n",
      "313/313 [==============================] - 26s 83ms/step - loss: 0.4084 - accuracy: 0.8229 - val_loss: 0.4844 - val_accuracy: 0.7706\n",
      "Epoch 70/100\n",
      "313/313 [==============================] - 26s 82ms/step - loss: 0.4069 - accuracy: 0.8221 - val_loss: 0.4808 - val_accuracy: 0.7748\n",
      "Epoch 71/100\n",
      "313/313 [==============================] - 26s 82ms/step - loss: 0.4049 - accuracy: 0.8249 - val_loss: 0.4831 - val_accuracy: 0.7750\n",
      "Epoch 72/100\n",
      "313/313 [==============================] - 26s 83ms/step - loss: 0.4038 - accuracy: 0.8255 - val_loss: 0.4802 - val_accuracy: 0.7766\n",
      "Epoch 73/100\n",
      "313/313 [==============================] - 26s 82ms/step - loss: 0.4013 - accuracy: 0.8271 - val_loss: 0.4813 - val_accuracy: 0.7748\n",
      "Epoch 74/100\n",
      "313/313 [==============================] - 26s 82ms/step - loss: 0.4005 - accuracy: 0.8270 - val_loss: 0.4802 - val_accuracy: 0.7786\n",
      "Epoch 75/100\n",
      "313/313 [==============================] - 26s 82ms/step - loss: 0.3982 - accuracy: 0.8288 - val_loss: 0.4792 - val_accuracy: 0.7776\n",
      "Epoch 76/100\n",
      "313/313 [==============================] - 26s 82ms/step - loss: 0.3969 - accuracy: 0.8293 - val_loss: 0.4797 - val_accuracy: 0.7758\n",
      "Epoch 77/100\n",
      "313/313 [==============================] - 27s 85ms/step - loss: 0.3953 - accuracy: 0.8297 - val_loss: 0.4794 - val_accuracy: 0.7778\n",
      "Epoch 78/100\n",
      "313/313 [==============================] - 26s 83ms/step - loss: 0.3942 - accuracy: 0.8309 - val_loss: 0.4828 - val_accuracy: 0.7766\n"
     ]
    }
   ],
   "source": [
    "rmsprop = keras.optimizers.RMSprop(learning_rate=1e-4)\n",
    "model.compile(optimizer=rmsprop, loss='binary_crossentropy', \n",
    "              metrics=['accuracy'])\n",
    "\n",
    "checkpoint_cb = keras.callbacks.ModelCheckpoint('best-simplernn-model.h5', \n",
    "                                                save_best_only=True)\n",
    "early_stopping_cb = keras.callbacks.EarlyStopping(patience=3,\n",
    "                                                  restore_best_weights=True)\n",
    "\n",
    "history = model.fit(train_oh, train_target, epochs=100, batch_size=64,\n",
    "                    validation_data=(val_oh, val_target),\n",
    "                    callbacks=[checkpoint_cb, early_stopping_cb])"
   ]
  },
  {
   "cell_type": "code",
   "execution_count": 25,
   "metadata": {},
   "outputs": [
    {
     "data": {
      "image/png": "[encoded data removed]",
      "text/plain": [
       "<Figure size 432x288 with 1 Axes>"
      ]
     },
     "metadata": {
      "needs_background": "light"
     },
     "output_type": "display_data"
    }
   ],
   "source": [
    "plt.plot(history.history['loss'])\n",
    "plt.plot(history.history['val_loss'])\n",
    "plt.xlabel('epoch')\n",
    "plt.ylabel('loss')\n",
    "plt.legend(['train', 'val'])\n",
    "plt.show()"
   ]
  },
  {
   "cell_type": "markdown",
   "metadata": {},
   "source": [
    "## 단어 임베딩을 사용하기"
   ]
  },
  {
   "cell_type": "code",
   "execution_count": 26,
   "metadata": {},
   "outputs": [],
   "source": [
    "model2 = keras.Sequential()\n",
    "model2.add(keras.layers.Embedding(500, 16, input_length=100))\n",
    "model2.add(keras.layers.SimpleRNN(8))\n",
    "model2.add(keras.layers.Dense(1, activation='sigmoid'))"
   ]
  },
  {
   "cell_type": "code",
   "execution_count": 27,
   "metadata": {},
   "outputs": [
    {
     "name": "stdout",
     "output_type": "stream",
     "text": [
      "Model: \"sequential_1\"\n",
      "_________________________________________________________________\n",
      "Layer (type)                 Output Shape              Param #   \n",
      "=================================================================\n",
      "embedding (Embedding)        (None, 100, 16)           8000      \n",
      "_________________________________________________________________\n",
      "simple_rnn_1 (SimpleRNN)     (None, 8)                 200       \n",
      "_________________________________________________________________\n",
      "dense_1 (Dense)              (None, 1)                 9         \n",
      "=================================================================\n",
      "Total params: 8,209\n",
      "Trainable params: 8,209\n",
      "Non-trainable params: 0\n",
      "_________________________________________________________________\n"
     ]
    }
   ],
   "source": [
    "model2.summary()"
   ]
  },
  {
   "cell_type": "code",
   "execution_count": 30,
   "metadata": {},
   "outputs": [
    {
     "name": "stdout",
     "output_type": "stream",
     "text": [
      "Epoch 1/100\n",
      "313/313 [==============================] - 33s 104ms/step - loss: 0.6879 - accuracy: 0.5418 - val_loss: 0.6626 - val_accuracy: 0.6168\n",
      "Epoch 2/100\n",
      "313/313 [==============================] - 32s 104ms/step - loss: 0.6278 - accuracy: 0.6725 - val_loss: 0.6087 - val_accuracy: 0.6928\n",
      "Epoch 3/100\n",
      "313/313 [==============================] - 32s 104ms/step - loss: 0.5824 - accuracy: 0.7230 - val_loss: 0.5735 - val_accuracy: 0.7298\n",
      "Epoch 4/100\n",
      "313/313 [==============================] - 32s 103ms/step - loss: 0.5539 - accuracy: 0.7456 - val_loss: 0.5516 - val_accuracy: 0.7422\n",
      "Epoch 5/100\n",
      "313/313 [==============================] - 32s 104ms/step - loss: 0.5325 - accuracy: 0.7622 - val_loss: 0.5410 - val_accuracy: 0.7482\n",
      "Epoch 6/100\n",
      "313/313 [==============================] - 33s 104ms/step - loss: 0.5143 - accuracy: 0.7760 - val_loss: 0.5189 - val_accuracy: 0.7664\n",
      "Epoch 7/100\n",
      "313/313 [==============================] - 33s 104ms/step - loss: 0.4975 - accuracy: 0.7855 - val_loss: 0.5058 - val_accuracy: 0.7730\n",
      "Epoch 8/100\n",
      "313/313 [==============================] - 32s 103ms/step - loss: 0.4811 - accuracy: 0.7910 - val_loss: 0.4887 - val_accuracy: 0.7764\n",
      "Epoch 9/100\n",
      "313/313 [==============================] - 33s 104ms/step - loss: 0.4652 - accuracy: 0.7970 - val_loss: 0.4793 - val_accuracy: 0.7814\n",
      "Epoch 10/100\n",
      "313/313 [==============================] - 32s 104ms/step - loss: 0.4537 - accuracy: 0.8015 - val_loss: 0.4720 - val_accuracy: 0.7822\n",
      "Epoch 11/100\n",
      "313/313 [==============================] - 32s 103ms/step - loss: 0.4456 - accuracy: 0.8048 - val_loss: 0.4688 - val_accuracy: 0.7816\n",
      "Epoch 12/100\n",
      "313/313 [==============================] - 33s 104ms/step - loss: 0.4380 - accuracy: 0.8073 - val_loss: 0.4633 - val_accuracy: 0.7844\n",
      "Epoch 13/100\n",
      "313/313 [==============================] - 33s 104ms/step - loss: 0.4331 - accuracy: 0.8091 - val_loss: 0.4592 - val_accuracy: 0.7848\n",
      "Epoch 14/100\n",
      "313/313 [==============================] - 33s 107ms/step - loss: 0.4281 - accuracy: 0.8107 - val_loss: 0.4569 - val_accuracy: 0.7872\n",
      "Epoch 15/100\n",
      "313/313 [==============================] - 34s 109ms/step - loss: 0.4231 - accuracy: 0.8144 - val_loss: 0.4584 - val_accuracy: 0.7836\n",
      "Epoch 16/100\n",
      "313/313 [==============================] - 35s 112ms/step - loss: 0.4200 - accuracy: 0.8140 - val_loss: 0.4600 - val_accuracy: 0.7854\n",
      "Epoch 17/100\n",
      "313/313 [==============================] - 36s 116ms/step - loss: 0.4162 - accuracy: 0.8170 - val_loss: 0.4557 - val_accuracy: 0.7866\n",
      "Epoch 18/100\n",
      "313/313 [==============================] - 34s 110ms/step - loss: 0.4134 - accuracy: 0.8182 - val_loss: 0.4551 - val_accuracy: 0.7860\n",
      "Epoch 19/100\n",
      "313/313 [==============================] - 34s 109ms/step - loss: 0.4106 - accuracy: 0.8179 - val_loss: 0.4712 - val_accuracy: 0.7826\n",
      "Epoch 20/100\n",
      "313/313 [==============================] - 35s 110ms/step - loss: 0.4080 - accuracy: 0.8198 - val_loss: 0.4618 - val_accuracy: 0.7858\n",
      "Epoch 21/100\n",
      "313/313 [==============================] - 35s 110ms/step - loss: 0.4054 - accuracy: 0.8210 - val_loss: 0.4791 - val_accuracy: 0.7786\n"
     ]
    }
   ],
   "source": [
    "rmsprop = keras.optimizers.RMSprop(learning_rate=1e-4)\n",
    "model2.compile(optimizer=rmsprop, loss='binary_crossentropy', metrics=['accuracy'])\n",
    "checkpoint_cb = keras.callbacks.ModelCheckpoint('best-embedding-model.h5')\n",
    "early_stopping_cb = keras.callbacks.EarlyStopping(patience=3, restore_best_weights=True)\n",
    "history = model2.fit(train_seq, train_target, epochs=100, batch_size=64, validation_data=(val_seq, val_target), callbacks=[checkpoint_cb, early_stopping_cb])"
   ]
  },
  {
   "cell_type": "code",
   "execution_count": 31,
   "metadata": {},
   "outputs": [
    {
     "data": {
      "image/png": "[encoded data removed]",
      "text/plain": [
       "<Figure size 432x288 with 1 Axes>"
      ]
     },
     "metadata": {
      "needs_background": "light"
     },
     "output_type": "display_data"
    }
   ],
   "source": [
    "plt.plot(history.history['loss'])\n",
    "plt.plot(history.history['val_loss'])\n",
    "plt.xlabel('epochs')\n",
    "plt.ylabel('loss')\n",
    "plt.legend(['train', 'val'])\n",
    "plt.show()"
   ]
  },
  {
   "cell_type": "code",
   "execution_count": null,
   "metadata": {},
   "outputs": [],
   "source": []
  }
 ],
 "metadata": {
  "interpreter": {
   "hash": "670f6450d16a1aa0071a7750afc4aaf53eb2d1802bf15ef2e2974f8d6b7aa0bd"
  },
  "kernelspec": {
   "display_name": "Python 3.9.7 64-bit ('ml-study': pyenv)",
   "name": "python3"
  },
  "language_info": {
   "codemirror_mode": {
    "name": "ipython",
    "version": 3
   },
   "file_extension": ".py",
   "mimetype": "text/x-python",
   "name": "python",
   "nbconvert_exporter": "python",
   "pygments_lexer": "ipython3",
   "version": "3.9.7"
  },
  "orig_nbformat": 4
 },
 "nbformat": 4,
 "nbformat_minor": 2
}
