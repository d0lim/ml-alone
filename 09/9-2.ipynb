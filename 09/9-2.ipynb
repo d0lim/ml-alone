{
 "cells": [
  {
   "cell_type": "markdown",
   "metadata": {},
   "source": [
    "# 순차 데이터으로 IMDB 리뷰 분류하기"
   ]
  },
  {
   "cell_type": "code",
   "execution_count": 1,
   "metadata": {},
   "outputs": [],
   "source": [
    "from tensorflow.keras.datasets import imdb\n",
    "(train_input, train_target), (test_input, test_target) = imdb.load_data(num_words=500)"
   ]
  },
  {
   "cell_type": "code",
   "execution_count": 2,
   "metadata": {},
   "outputs": [
    {
     "name": "stdout",
     "output_type": "stream",
     "text": [
      "(25000,) (25000,)\n"
     ]
    }
   ],
   "source": [
    "print(train_input.shape, test_input.shape)"
   ]
  },
  {
   "cell_type": "code",
   "execution_count": 3,
   "metadata": {},
   "outputs": [
    {
     "name": "stdout",
     "output_type": "stream",
     "text": [
      "218\n"
     ]
    }
   ],
   "source": [
    "print(len(train_input[0]))"
   ]
  },
  {
   "cell_type": "code",
   "execution_count": 4,
   "metadata": {},
   "outputs": [
    {
     "name": "stdout",
     "output_type": "stream",
     "text": [
      "189\n"
     ]
    }
   ],
   "source": [
    "print(len(train_input[1]))"
   ]
  },
  {
   "cell_type": "code",
   "execution_count": 5,
   "metadata": {},
   "outputs": [
    {
     "name": "stdout",
     "output_type": "stream",
     "text": [
      "[1, 14, 22, 16, 43, 2, 2, 2, 2, 65, 458, 2, 66, 2, 4, 173, 36, 256, 5, 25, 100, 43, 2, 112, 50, 2, 2, 9, 35, 480, 284, 5, 150, 4, 172, 112, 167, 2, 336, 385, 39, 4, 172, 2, 2, 17, 2, 38, 13, 447, 4, 192, 50, 16, 6, 147, 2, 19, 14, 22, 4, 2, 2, 469, 4, 22, 71, 87, 12, 16, 43, 2, 38, 76, 15, 13, 2, 4, 22, 17, 2, 17, 12, 16, 2, 18, 2, 5, 62, 386, 12, 8, 316, 8, 106, 5, 4, 2, 2, 16, 480, 66, 2, 33, 4, 130, 12, 16, 38, 2, 5, 25, 124, 51, 36, 135, 48, 25, 2, 33, 6, 22, 12, 215, 28, 77, 52, 5, 14, 407, 16, 82, 2, 8, 4, 107, 117, 2, 15, 256, 4, 2, 7, 2, 5, 2, 36, 71, 43, 2, 476, 26, 400, 317, 46, 7, 4, 2, 2, 13, 104, 88, 4, 381, 15, 297, 98, 32, 2, 56, 26, 141, 6, 194, 2, 18, 4, 226, 22, 21, 134, 476, 26, 480, 5, 144, 30, 2, 18, 51, 36, 28, 224, 92, 25, 104, 4, 226, 65, 16, 38, 2, 88, 12, 16, 283, 5, 16, 2, 113, 103, 32, 15, 16, 2, 19, 178, 32]\n"
     ]
    }
   ],
   "source": [
    "print(train_input[0])"
   ]
  },
  {
   "cell_type": "code",
   "execution_count": 6,
   "metadata": {},
   "outputs": [
    {
     "name": "stdout",
     "output_type": "stream",
     "text": [
      "[1 0 0 1 0 0 1 0 1 0 1 0 0 0 0 0 1 1 0 1]\n"
     ]
    }
   ],
   "source": [
    "print(train_target[:20])"
   ]
  },
  {
   "cell_type": "code",
   "execution_count": 7,
   "metadata": {},
   "outputs": [],
   "source": [
    "from sklearn.model_selection import train_test_split\n",
    "train_input, val_input, train_target, val_target = train_test_split(train_input, train_target, test_size=0.2, random_state=42)"
   ]
  },
  {
   "cell_type": "code",
   "execution_count": 8,
   "metadata": {},
   "outputs": [],
   "source": [
    "import numpy as np\n",
    "lengths = np.array([len(x) for x in train_input])"
   ]
  },
  {
   "cell_type": "code",
   "execution_count": 9,
   "metadata": {},
   "outputs": [
    {
     "name": "stdout",
     "output_type": "stream",
     "text": [
      "239.00925 178.0\n"
     ]
    }
   ],
   "source": [
    "print(np.mean(lengths), np.median(lengths))"
   ]
  },
  {
   "cell_type": "code",
   "execution_count": 10,
   "metadata": {},
   "outputs": [
    {
     "data": {
      "image/png": "[encoded data removed]",
      "text/plain": [
       "<Figure size 432x288 with 1 Axes>"
      ]
     },
     "metadata": {
      "needs_background": "light"
     },
     "output_type": "display_data"
    }
   ],
   "source": [
    "import matplotlib.pyplot as plt\n",
    "plt.hist(lengths)\n",
    "plt.xlabel('length')\n",
    "plt.ylabel('frequency')\n",
    "plt.show()"
   ]
  },
  {
   "cell_type": "code",
   "execution_count": 11,
   "metadata": {},
   "outputs": [],
   "source": [
    "from tensorflow.keras.preprocessing.sequence import pad_sequences\n",
    "train_seq = pad_sequences(train_input, maxlen=100)"
   ]
  },
  {
   "cell_type": "code",
   "execution_count": 12,
   "metadata": {},
   "outputs": [
    {
     "name": "stdout",
     "output_type": "stream",
     "text": [
      "(20000, 100)\n"
     ]
    }
   ],
   "source": [
    "print(train_seq.shape)"
   ]
  },
  {
   "cell_type": "code",
   "execution_count": 13,
   "metadata": {},
   "outputs": [
    {
     "name": "stdout",
     "output_type": "stream",
     "text": [
      "[ 10   4  20   9   2 364 352   5  45   6   2   2  33 269   8   2 142   2\n",
      "   5   2  17  73  17 204   5   2  19  55   2   2  92  66 104  14  20  93\n",
      "  76   2 151  33   4  58  12 188   2 151  12 215  69 224 142  73 237   6\n",
      "   2   7   2   2 188   2 103  14  31  10  10 451   7   2   5   2  80  91\n",
      "   2  30   2  34  14  20 151  50  26 131  49   2  84  46  50  37  80  79\n",
      "   6   2  46   7  14  20  10  10 470 158]\n"
     ]
    }
   ],
   "source": [
    "print(train_seq[0])"
   ]
  },
  {
   "cell_type": "code",
   "execution_count": 14,
   "metadata": {},
   "outputs": [
    {
     "name": "stdout",
     "output_type": "stream",
     "text": [
      "[6, 2, 46, 7, 14, 20, 10, 10, 470, 158]\n"
     ]
    }
   ],
   "source": [
    "print(train_input[0][-10:])"
   ]
  },
  {
   "cell_type": "code",
   "execution_count": 15,
   "metadata": {},
   "outputs": [
    {
     "name": "stdout",
     "output_type": "stream",
     "text": [
      "[  0   0   0   0   1   2 195  19  49   2   2 190   4   2 352   2 183  10\n",
      "  10  13  82  79   4   2  36  71 269   8   2  25  19  49   7   4   2   2\n",
      "   2   2   2  10  10  48  25  40   2  11   2   2  40   2   2   5   4   2\n",
      "   2  95  14 238  56 129   2  10  10  21   2  94 364 352   2   2  11 190\n",
      "  24 484   2   7  94 205 405  10  10  87   2  34  49   2   7   2   2   2\n",
      "   2   2 290   2  46  48  64  18   4   2]\n"
     ]
    }
   ],
   "source": [
    "print(train_seq[5])"
   ]
  },
  {
   "cell_type": "code",
   "execution_count": 16,
   "metadata": {},
   "outputs": [],
   "source": [
    "val_seq = pad_sequences(val_input, maxlen=100)"
   ]
  },
  {
   "cell_type": "markdown",
   "metadata": {},
   "source": [
    "## 순환 신경망 만들기"
   ]
  },
  {
   "cell_type": "code",
   "execution_count": 17,
   "metadata": {},
   "outputs": [
    {
     "name": "stderr",
     "output_type": "stream",
     "text": [
      "2021-10-29 00:14:53.222000: I tensorflow/stream_executor/cuda/cuda_gpu_executor.cc:923] could not open file to read NUMA node: /sys/bus/pci/devices/0000:2b:00.0/numa_node\n",
      "Your kernel may have been built without NUMA support.\n",
      "2021-10-29 00:14:53.255577: I tensorflow/stream_executor/cuda/cuda_gpu_executor.cc:923] could not open file to read NUMA node: /sys/bus/pci/devices/0000:2b:00.0/numa_node\n",
      "Your kernel may have been built without NUMA support.\n",
      "2021-10-29 00:14:53.256716: I tensorflow/stream_executor/cuda/cuda_gpu_executor.cc:923] could not open file to read NUMA node: /sys/bus/pci/devices/0000:2b:00.0/numa_node\n",
      "Your kernel may have been built without NUMA support.\n",
      "2021-10-29 00:14:53.257336: I tensorflow/core/platform/cpu_feature_guard.cc:142] This TensorFlow binary is optimized with oneAPI Deep Neural Network Library (oneDNN) to use the following CPU instructions in performance-critical operations:  AVX2 FMA\n",
      "To enable them in other operations, rebuild TensorFlow with the appropriate compiler flags.\n",
      "2021-10-29 00:14:53.259950: I tensorflow/stream_executor/cuda/cuda_gpu_executor.cc:923] could not open file to read NUMA node: /sys/bus/pci/devices/0000:2b:00.0/numa_node\n",
      "Your kernel may have been built without NUMA support.\n",
      "2021-10-29 00:14:53.261064: I tensorflow/stream_executor/cuda/cuda_gpu_executor.cc:923] could not open file to read NUMA node: /sys/bus/pci/devices/0000:2b:00.0/numa_node\n",
      "Your kernel may have been built without NUMA support.\n",
      "2021-10-29 00:14:53.262237: I tensorflow/stream_executor/cuda/cuda_gpu_executor.cc:923] could not open file to read NUMA node: /sys/bus/pci/devices/0000:2b:00.0/numa_node\n",
      "Your kernel may have been built without NUMA support.\n",
      "2021-10-29 00:14:54.332497: I tensorflow/stream_executor/cuda/cuda_gpu_executor.cc:923] could not open file to read NUMA node: /sys/bus/pci/devices/0000:2b:00.0/numa_node\n",
      "Your kernel may have been built without NUMA support.\n",
      "2021-10-29 00:14:54.333752: I tensorflow/stream_executor/cuda/cuda_gpu_executor.cc:923] could not open file to read NUMA node: /sys/bus/pci/devices/0000:2b:00.0/numa_node\n",
      "Your kernel may have been built without NUMA support.\n",
      "2021-10-29 00:14:54.333765: I tensorflow/core/common_runtime/gpu/gpu_device.cc:1594] Could not identify NUMA node of platform GPU id 0, defaulting to 0.  Your kernel may not have been built with NUMA support.\n",
      "2021-10-29 00:14:54.334936: I tensorflow/stream_executor/cuda/cuda_gpu_executor.cc:923] could not open file to read NUMA node: /sys/bus/pci/devices/0000:2b:00.0/numa_node\n",
      "Your kernel may have been built without NUMA support.\n",
      "2021-10-29 00:14:54.335276: I tensorflow/core/common_runtime/gpu/gpu_device.cc:1510] Created device /job:localhost/replica:0/task:0/device:GPU:0 with 21642 MB memory:  -> device: 0, name: NVIDIA GeForce RTX 3090, pci bus id: 0000:2b:00.0, compute capability: 8.6\n"
     ]
    }
   ],
   "source": [
    "from tensorflow import keras\n",
    "model = keras.Sequential()\n",
    "model.add(keras.layers.SimpleRNN(8, input_shape=(100, 500)))\n",
    "model.add(keras.layers.Dense(1, activation='sigmoid'))"
   ]
  },
  {
   "cell_type": "code",
   "execution_count": 18,
   "metadata": {},
   "outputs": [],
   "source": [
    "train_oh = keras.utils.to_categorical(train_seq)"
   ]
  },
  {
   "cell_type": "code",
   "execution_count": 19,
   "metadata": {},
   "outputs": [
    {
     "name": "stdout",
     "output_type": "stream",
     "text": [
      "(20000, 100, 500)\n"
     ]
    }
   ],
   "source": [
    "print(train_oh.shape)"
   ]
  },
  {
   "cell_type": "code",
   "execution_count": 20,
   "metadata": {},
   "outputs": [
    {
     "name": "stdout",
     "output_type": "stream",
     "text": [
      "[0. 0. 0. 0. 0. 0. 0. 0. 0. 0. 1. 0.]\n"
     ]
    }
   ],
   "source": [
    "print(train_oh[0][0][:12])"
   ]
  },
  {
   "cell_type": "code",
   "execution_count": 21,
   "metadata": {},
   "outputs": [
    {
     "name": "stdout",
     "output_type": "stream",
     "text": [
      "1.0\n"
     ]
    }
   ],
   "source": [
    "print(np.sum(train_oh[0][0]))"
   ]
  },
  {
   "cell_type": "code",
   "execution_count": 22,
   "metadata": {},
   "outputs": [],
   "source": [
    "val_oh = keras.utils.to_categorical(val_seq)"
   ]
  },
  {
   "cell_type": "code",
   "execution_count": 23,
   "metadata": {},
   "outputs": [
    {
     "name": "stdout",
     "output_type": "stream",
     "text": [
      "Model: \"sequential\"\n",
      "_________________________________________________________________\n",
      "Layer (type)                 Output Shape              Param #   \n",
      "=================================================================\n",
      "simple_rnn (SimpleRNN)       (None, 8)                 4072      \n",
      "_________________________________________________________________\n",
      "dense (Dense)                (None, 1)                 9         \n",
      "=================================================================\n",
      "Total params: 4,081\n",
      "Trainable params: 4,081\n",
      "Non-trainable params: 0\n",
      "_________________________________________________________________\n"
     ]
    }
   ],
   "source": [
    "model.summary()"
   ]
  },
  {
   "cell_type": "markdown",
   "metadata": {},
   "source": [
    "## 순환 신경망 훈련하기"
   ]
  },
  {
   "cell_type": "code",
   "execution_count": 24,
   "metadata": {},
   "outputs": [
    {
     "name": "stderr",
     "output_type": "stream",
     "text": [
      "2021-10-29 00:14:59.062804: W tensorflow/core/framework/cpu_allocator_impl.cc:80] Allocation of 4000000000 exceeds 10% of free system memory.\n",
      "2021-10-29 00:15:02.771467: W tensorflow/core/framework/cpu_allocator_impl.cc:80] Allocation of 4000000000 exceeds 10% of free system memory.\n",
      "2021-10-29 00:15:03.298788: I tensorflow/compiler/mlir/mlir_graph_optimization_pass.cc:185] None of the MLIR Optimization Passes are enabled (registered 2)\n"
     ]
    },
    {
     "name": "stdout",
     "output_type": "stream",
     "text": [
      "Epoch 1/100\n",
      "  2/313 [..............................] - ETA: 27s - loss: 0.7173 - accuracy: 0.4766  "
     ]
    },
    {
     "name": "stderr",
     "output_type": "stream",
     "text": [
      "2021-10-29 00:15:05.214327: I tensorflow/stream_executor/cuda/cuda_blas.cc:1760] TensorFloat-32 will be used for the matrix multiplication. This will only be logged once.\n"
     ]
    },
    {
     "name": "stdout",
     "output_type": "stream",
     "text": [
      "313/313 [==============================] - 37s 113ms/step - loss: 0.7034 - accuracy: 0.5084 - val_loss: 0.6927 - val_accuracy: 0.5316\n",
      "Epoch 2/100\n",
      "313/313 [==============================] - 27s 85ms/step - loss: 0.6807 - accuracy: 0.5635 - val_loss: 0.6685 - val_accuracy: 0.5986\n",
      "Epoch 3/100\n",
      "313/313 [==============================] - 27s 86ms/step - loss: 0.6536 - accuracy: 0.6212 - val_loss: 0.6441 - val_accuracy: 0.6388\n",
      "Epoch 4/100\n",
      "313/313 [==============================] - 26s 84ms/step - loss: 0.6237 - accuracy: 0.6669 - val_loss: 0.6169 - val_accuracy: 0.6784\n",
      "Epoch 5/100\n",
      "313/313 [==============================] - 27s 85ms/step - loss: 0.6003 - accuracy: 0.6963 - val_loss: 0.5970 - val_accuracy: 0.6948\n",
      "Epoch 6/100\n",
      "313/313 [==============================] - 27s 85ms/step - loss: 0.5794 - accuracy: 0.7196 - val_loss: 0.5790 - val_accuracy: 0.7134\n",
      "Epoch 7/100\n",
      "313/313 [==============================] - 27s 85ms/step - loss: 0.5618 - accuracy: 0.7355 - val_loss: 0.5677 - val_accuracy: 0.7242\n",
      "Epoch 8/100\n",
      "313/313 [==============================] - 27s 86ms/step - loss: 0.5463 - accuracy: 0.7484 - val_loss: 0.5479 - val_accuracy: 0.7422\n",
      "Epoch 9/100\n",
      "313/313 [==============================] - 26s 84ms/step - loss: 0.5323 - accuracy: 0.7598 - val_loss: 0.5376 - val_accuracy: 0.7446\n",
      "Epoch 10/100\n",
      "313/313 [==============================] - 26s 85ms/step - loss: 0.5198 - accuracy: 0.7660 - val_loss: 0.5291 - val_accuracy: 0.7504\n",
      "Epoch 11/100\n",
      "313/313 [==============================] - 28s 89ms/step - loss: 0.5091 - accuracy: 0.7743 - val_loss: 0.5199 - val_accuracy: 0.7568\n",
      "Epoch 12/100\n",
      "313/313 [==============================] - 28s 88ms/step - loss: 0.4995 - accuracy: 0.7772 - val_loss: 0.5108 - val_accuracy: 0.7616\n",
      "Epoch 13/100\n",
      "313/313 [==============================] - 26s 84ms/step - loss: 0.4903 - accuracy: 0.7824 - val_loss: 0.5050 - val_accuracy: 0.7680\n",
      "Epoch 14/100\n",
      "313/313 [==============================] - 26s 85ms/step - loss: 0.4820 - accuracy: 0.7882 - val_loss: 0.5012 - val_accuracy: 0.7682\n",
      "Epoch 15/100\n",
      "313/313 [==============================] - 26s 84ms/step - loss: 0.4750 - accuracy: 0.7910 - val_loss: 0.4922 - val_accuracy: 0.7768\n",
      "Epoch 16/100\n",
      "313/313 [==============================] - 27s 87ms/step - loss: 0.4679 - accuracy: 0.7950 - val_loss: 0.4880 - val_accuracy: 0.7800\n",
      "Epoch 17/100\n",
      "313/313 [==============================] - 27s 85ms/step - loss: 0.4614 - accuracy: 0.7994 - val_loss: 0.4827 - val_accuracy: 0.7796\n",
      "Epoch 18/100\n",
      "313/313 [==============================] - 26s 84ms/step - loss: 0.4563 - accuracy: 0.8012 - val_loss: 0.4785 - val_accuracy: 0.7804\n",
      "Epoch 19/100\n",
      "313/313 [==============================] - 26s 84ms/step - loss: 0.4510 - accuracy: 0.8043 - val_loss: 0.4784 - val_accuracy: 0.7768\n",
      "Epoch 20/100\n",
      "313/313 [==============================] - 27s 86ms/step - loss: 0.4468 - accuracy: 0.8062 - val_loss: 0.4730 - val_accuracy: 0.7828\n",
      "Epoch 21/100\n",
      "313/313 [==============================] - 26s 85ms/step - loss: 0.4426 - accuracy: 0.8067 - val_loss: 0.4714 - val_accuracy: 0.7848\n",
      "Epoch 22/100\n",
      "313/313 [==============================] - 27s 85ms/step - loss: 0.4391 - accuracy: 0.8105 - val_loss: 0.4691 - val_accuracy: 0.7854\n",
      "Epoch 23/100\n",
      "313/313 [==============================] - 27s 85ms/step - loss: 0.4355 - accuracy: 0.8112 - val_loss: 0.4671 - val_accuracy: 0.7888\n",
      "Epoch 24/100\n",
      "313/313 [==============================] - 27s 85ms/step - loss: 0.4326 - accuracy: 0.8119 - val_loss: 0.4683 - val_accuracy: 0.7854\n",
      "Epoch 25/100\n",
      "313/313 [==============================] - 26s 85ms/step - loss: 0.4300 - accuracy: 0.8148 - val_loss: 0.4653 - val_accuracy: 0.7864\n",
      "Epoch 26/100\n",
      "313/313 [==============================] - 27s 85ms/step - loss: 0.4273 - accuracy: 0.8150 - val_loss: 0.4644 - val_accuracy: 0.7876\n",
      "Epoch 27/100\n",
      "313/313 [==============================] - 26s 85ms/step - loss: 0.4253 - accuracy: 0.8159 - val_loss: 0.4619 - val_accuracy: 0.7906\n",
      "Epoch 28/100\n",
      "313/313 [==============================] - 27s 86ms/step - loss: 0.4232 - accuracy: 0.8163 - val_loss: 0.4615 - val_accuracy: 0.7874\n",
      "Epoch 29/100\n",
      "313/313 [==============================] - 27s 85ms/step - loss: 0.4212 - accuracy: 0.8169 - val_loss: 0.4625 - val_accuracy: 0.7876\n",
      "Epoch 30/100\n",
      "313/313 [==============================] - 27s 85ms/step - loss: 0.4193 - accuracy: 0.8177 - val_loss: 0.4627 - val_accuracy: 0.7878\n",
      "Epoch 31/100\n",
      "313/313 [==============================] - 26s 85ms/step - loss: 0.4176 - accuracy: 0.8188 - val_loss: 0.4659 - val_accuracy: 0.7856\n"
     ]
    }
   ],
   "source": [
    "rmsprop = keras.optimizers.RMSprop(learning_rate=1e-4)\n",
    "model.compile(optimizer=rmsprop, loss='binary_crossentropy', \n",
    "              metrics=['accuracy'])\n",
    "\n",
    "checkpoint_cb = keras.callbacks.ModelCheckpoint('best-simplernn-model.h5', \n",
    "                                                save_best_only=True)\n",
    "early_stopping_cb = keras.callbacks.EarlyStopping(patience=3,\n",
    "                                                  restore_best_weights=True)\n",
    "\n",
    "history = model.fit(train_oh, train_target, epochs=100, batch_size=64,\n",
    "                    validation_data=(val_oh, val_target),\n",
    "                    callbacks=[checkpoint_cb, early_stopping_cb])"
   ]
  },
  {
   "cell_type": "code",
   "execution_count": 25,
   "metadata": {},
   "outputs": [
    {
     "data": {
      "image/png": "[encoded data removed]",
      "text/plain": [
       "<Figure size 432x288 with 1 Axes>"
      ]
     },
     "metadata": {
      "needs_background": "light"
     },
     "output_type": "display_data"
    }
   ],
   "source": [
    "plt.plot(history.history['loss'])\n",
    "plt.plot(history.history['val_loss'])\n",
    "plt.xlabel('epoch')\n",
    "plt.ylabel('loss')\n",
    "plt.legend(['train', 'val'])\n",
    "plt.show()"
   ]
  },
  {
   "cell_type": "code",
   "execution_count": null,
   "metadata": {},
   "outputs": [],
   "source": []
  }
 ],
 "metadata": {
  "interpreter": {
   "hash": "670f6450d16a1aa0071a7750afc4aaf53eb2d1802bf15ef2e2974f8d6b7aa0bd"
  },
  "kernelspec": {
   "display_name": "Python 3.9.7 64-bit ('ml-study': pyenv)",
   "name": "python3"
  },
  "language_info": {
   "codemirror_mode": {
    "name": "ipython",
    "version": 3
   },
   "file_extension": ".py",
   "mimetype": "text/x-python",
   "name": "python",
   "nbconvert_exporter": "python",
   "pygments_lexer": "ipython3",
   "version": "3.9.7"
  },
  "orig_nbformat": 4
 },
 "nbformat": 4,
 "nbformat_minor": 2
}
